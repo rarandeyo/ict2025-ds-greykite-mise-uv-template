{
 "cells": [
  {
   "cell_type": "markdown",
   "metadata": {},
   "source": [
    "### Environment check\n"
   ]
  },
  {
   "cell_type": "markdown",
   "metadata": {},
   "source": [
    "#### Libraries\n"
   ]
  },
  {
   "cell_type": "code",
   "execution_count": null,
   "metadata": {
    "execution": {
     "iopub.execute_input": "2025-09-25T01:59:36.354598Z",
     "iopub.status.busy": "2025-09-25T01:59:36.354435Z",
     "iopub.status.idle": "2025-09-25T01:59:39.348693Z",
     "shell.execute_reply": "2025-09-25T01:59:39.348201Z"
    },
    "scrolled": true
   },
   "outputs": [],
   "source": [
    "import sys, os, subprocess, warnings\n",
    "from subprocess import PIPE\n",
    "from datetime import datetime\n",
    "warnings.resetwarnings()\n",
    "warnings.simplefilter('ignore', FutureWarning)\n",
    "warnings.simplefilter('ignore', DeprecationWarning)\n",
    "warnings.simplefilter('ignore', RuntimeWarning)\n",
    "warnings.simplefilter('ignore', ResourceWarning)\n",
    "warnings.simplefilter('ignore', ImportWarning)\n",
    "\n",
    "print('Start')\n",
    "print('os:', os.name)\n",
    "print('sys.version:', sys.version)\n",
    "print('sys.path:', sys.path)\n",
    "\n",
    "print('pwd:', os.getcwd())\n",
    "proc=subprocess.run('conda --version', shell=True, stdout=PIPE, stderr=PIPE)\n",
    "print('conda:', proc.stdout)\n",
    "if os.name=='posix':  # mac\n",
    "    proc=subprocess.run('which conda', shell=True, stdout=PIPE, stderr=PIPE)\n",
    "else:\n",
    "    proc=subprocess.run('where conda', shell=True, stdout=PIPE, stderr=PIPE)\n",
    "print('where conda:', proc.stdout)\n",
    "if os.name=='posix':  # mac\n",
    "    proc=subprocess.run('which python', shell=True, stdout=PIPE, stderr=PIPE)\n",
    "else:\n",
    "    proc=subprocess.run('where python', shell=True, stdout=PIPE, stderr=PIPE)\n",
    "print('where python:', proc.stdout)\n",
    "proc=subprocess.run('python --version', shell=True, stdout=PIPE, stderr=PIPE)\n",
    "print('python:', proc.stdout)\n",
    "if os.name=='posix':  # mac\n",
    "    proc=subprocess.run('which python3', shell=True, stdout=PIPE, stderr=PIPE)\n",
    "else:\n",
    "    proc=subprocess.run('where python3', shell=True, stdout=PIPE, stderr=PIPE)\n",
    "print('where python3:', proc.stdout)\n",
    "proc=subprocess.run('python3 --version', shell=True, stdout=PIPE, stderr=PIPE)\n",
    "print('python3:', proc.stdout)\n",
    "proc=subprocess.run('jupyter lab --version', shell=True, stdout=PIPE, stderr=PIPE)\n",
    "print('JupyterLab:', proc.stdout)\n",
    "proc=subprocess.run('ipython --version', shell=True, stdout=PIPE, stderr=PIPE)\n",
    "print('ipython:', proc.stdout)\n",
    "import numpy as np\n",
    "print('numpy:', np.__version__, np.__file__)\n",
    "import scipy as sp\n",
    "print('scipy:', sp.__version__, sp.__file__)\n",
    "import pandas as pd\n",
    "print('pandas:', pd.__version__, pd.__file__)\n",
    "\n",
    "import sklearn as sk\n",
    "print('sklearn:', sk.__version__, sk.__file__)\n",
    "import matplotlib as mp\n",
    "print('matplotlib:', mp.__version__, mp.__file__)\n",
    "import statsmodels as sm\n",
    "print('statsmodels:', sm.__version__, sm.__file__)\n",
    "import statsmodels.api as sma\n",
    "import statsmodels.formula.api as smf\n",
    "\n",
    "print('End')"
   ]
  },
  {
   "cell_type": "markdown",
   "metadata": {},
   "source": [
    "#### Load mnist data\n"
   ]
  },
  {
   "cell_type": "markdown",
   "metadata": {},
   "source": [
    "#### Plotly\n"
   ]
  },
  {
   "cell_type": "code",
   "execution_count": null,
   "metadata": {
    "execution": {
     "iopub.execute_input": "2025-09-25T01:59:39.350647Z",
     "iopub.status.busy": "2025-09-25T01:59:39.350331Z",
     "iopub.status.idle": "2025-09-25T01:59:41.055358Z",
     "shell.execute_reply": "2025-09-25T01:59:41.054783Z"
    }
   },
   "outputs": [],
   "source": [
    "from sklearn import manifold, datasets\n",
    "import plotly.offline as offline\n",
    "import plotly.graph_objs as go\n",
    "offline.init_notebook_mode(connected=False)\n",
    "\n",
    "n_points = 1000\n",
    "X, color = datasets.make_s_curve(n_points, random_state=0)\n",
    "trace1 = go.Scatter3d(x=X[:,0], y=X[:,1], z=X[:,2], mode='markers',\n",
    "                      marker=dict(size=1.0, color=color, colorscale='Jet'))\n",
    "data = [trace1]\n",
    "layout = go.Layout(\n",
    "            height=400, width=400,\n",
    "            scene = dict(\n",
    "                xaxis=dict(title='x'), yaxis=dict(title='y'),\n",
    "                zaxis=dict(title='z')))\n",
    "fig = go.Figure(data=data, layout=layout)\n",
    "offline.iplot(fig, filename='manifold-3d-scatter')"
   ]
  },
  {
   "cell_type": "markdown",
   "metadata": {},
   "source": [
    "#### NN\n"
   ]
  },
  {
   "cell_type": "code",
   "execution_count": null,
   "metadata": {
    "execution": {
     "iopub.execute_input": "2025-09-25T01:59:41.057865Z",
     "iopub.status.busy": "2025-09-25T01:59:41.057662Z",
     "iopub.status.idle": "2025-09-25T01:59:41.449213Z",
     "shell.execute_reply": "2025-09-25T01:59:41.448664Z"
    }
   },
   "outputs": [],
   "source": [
    "import os\n",
    "\n",
    "from greykite.algo.changepoint.adalasso.changepoint_detector import ChangepointDetector\n",
    "from greykite.algo.forecast.silverkite.constants.silverkite_column import SilverkiteColumn\n",
    "from greykite.common.features.timeseries_features import get_available_holidays_across_countries\n",
    "from greykite.framework.input.univariate_time_series import UnivariateTimeSeries\n",
    "from greykite.framework.templates.autogen.forecast_config import ForecastConfig\n",
    "from greykite.framework.templates.autogen.forecast_config import MetadataParam\n",
    "from greykite.framework.templates.autogen.forecast_config import ModelComponentsParam\n",
    "from greykite.framework.templates.forecaster import Forecaster\n",
    "from greykite.framework.templates.model_templates import ModelTemplateEnum\n",
    "from greykite.framework.utils.result_summary import summarize_grid_search_results\n",
    "print('All OK')"
   ]
  },
  {
   "cell_type": "code",
   "execution_count": null,
   "metadata": {},
   "outputs": [],
   "source": []
  }
 ],
 "metadata": {
  "kernelspec": {
   "display_name": "ict2025-ds-greykite",
   "language": "python",
   "name": "python3"
  },
  "language_info": {
   "codemirror_mode": {
    "name": "ipython",
    "version": 3
   },
   "file_extension": ".py",
   "mimetype": "text/x-python",
   "name": "python",
   "nbconvert_exporter": "python",
   "pygments_lexer": "ipython3",
   "version": "3.10.15"
  }
 },
 "nbformat": 4,
 "nbformat_minor": 4
}
